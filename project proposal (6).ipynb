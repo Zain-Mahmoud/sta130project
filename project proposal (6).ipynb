{
 "cells": [
  {
   "cell_type": "markdown",
   "id": "c4d8c00d",
   "metadata": {},
   "source": [
    "#### Project proposal\n",
    "Proposed group: Zainelden Mahmoud, Jason Li, Edie Chen, Rana Nagash\n",
    "\n",
    "#### Analysis #1:\n",
    "**Research question**: Does the time spent socializing lessen an individual’s degree of depression?\n",
    "\n",
    "#### Variables and visualizations:\n",
    "I will examine the total time individuals spend socializing per week (independent variable) and their reported PHQ scores (dependent variables) which is used to characterize the level of depression. A scatter diagram can be used to assess the relationship between the two variables since they are both numeric variables. This can also be used to determine the general trend of the variables.\n",
    "\n",
    "#### Analysis and hypotheses:\n",
    "After plotting a scatter diagram, I plan on fitting an OLS linear regression model through the data and calculating the slope coefficient of the model. I then plan on performing a hypothesis test with the following Null and Alternative Hypotheses: $H_0: \\beta_0 = 0$  and \n",
    "$H_A: \\beta_0 ≠ 0$ \n",
    "\n",
    "I will then construct a 95% confidence interval of the slope coefficients by bootstrapping from our sample and, based on that, I will reject or fail to reject the Null Hypothesis accordingly.\n",
    "#### Expected results:\n",
    "I believe that the 95% confidence interval will only contain negative values of slopes (excluding 0), which gives us strong evidence against the Null Hypothesis and indicates that the correlation between the variables is negative. Thus, I hypothesize that, as time spent socializing increases, the average depression levels decrease.\n",
    "#### Analysis #2:\n",
    "**Research Question**: Do individuals with more pets feel less anxious?\n",
    "#### Variables and visualizations:\n",
    "I will examine the number of pets owned by an individual (independent variable) and their GAD score (dependent variable), which is used to quantify an individual's level of anxiety. Since both variables are numeric, we can plot a scatter diagram of the two variables to analyze the relationship between the number of pets owned and how anxious an individual feels. \n",
    "#### Analysis and hypotheses:\n",
    "After plotting a scatter diagram, I plan on fitting an OLS linear regression model through the data and storing the slope coefficient of the model. I then plan on performing a hypothesis test with the following Null and Alternative Hypotheses: \n",
    "$H_0: \\beta_0 = 0$ and \n",
    "$H_A: \\beta_0 ≠ 0$ \n",
    "\n",
    "I will then construct a 95% confidence interval of the slope coefficients by bootstrapping from our sample. Based on that, I will reject or fail to reject the Null Hypothesis accordingly.\n",
    "#### Expected results:\n",
    "I believe that slope coefficients greater than or equal to 0 will not be included in the 95% confidence interval, giving us strong evidence against the Null Hypothesis, and indicates that the correlation is negative, implying that having more pets generally reduces anxiety.\n",
    "#### Analysis #3:\n",
    "**Research question**: Are older people happier than younger people?\n",
    "#### Variables and visualizations:\n",
    "I will examine the participants’ ages and their subjective happiness score. This score also includes how happy a participant thinks they are relative to their peers. I can plot a scatter diagram of the two (numeric) variables to examine how the happiness scores vary as the participants' ages increase.\n",
    "#### Analysis and hypotheses:\n",
    "After plotting a scatter diagram, I plan on fitting an OLS linear regression model through the data and storing the slope coefficient of the model. I then plan on performing a hypothesis test with the following Null and Alternative Hypotheses: \n",
    "$H_0: \\beta_0 = 0$ and \n",
    "$H_A: \\beta_0 ≠ 0$\n",
    "\n",
    "Then, I will construct a 95% confidence interval of the slope coefficients by creating a bootstrapped dataset from our sample. Based on that, I will reject or fail to reject the Null Hypothesis accordingly.\n",
    "#### Expected results:\n",
    "I believe that the confidence interval constructed will not contain any slope coefficients less than or equal to 0, which gives us strong evidence to reject the Null Hypothesis and also strongly indicates that the relationship between the two variables is positive. Thus, I hypothesize that people become happier as they grow older.\n",
    "\n",
    "\n",
    "\n",
    "***Note: for all three analyses, we must first check if the data obeys all assumptions required to fit an OLS linear regression model (i.e. linearity, independence, homoscedasticity, normality of residuals and no autocorrelation).***"
   ]
  }
 ],
 "metadata": {
  "kernelspec": {
   "display_name": "Python 3 (ipykernel)",
   "language": "python",
   "name": "python3"
  },
  "language_info": {
   "codemirror_mode": {
    "name": "ipython",
    "version": 3
   },
   "file_extension": ".py",
   "mimetype": "text/x-python",
   "name": "python",
   "nbconvert_exporter": "python",
   "pygments_lexer": "ipython3",
   "version": "3.11.6"
  }
 },
 "nbformat": 4,
 "nbformat_minor": 5
}
