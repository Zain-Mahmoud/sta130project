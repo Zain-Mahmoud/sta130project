{
 "cells": [
  {
   "cell_type": "markdown",
   "id": "c4d8c00d",
   "metadata": {},
   "source": [
    "#### Project proposal\n",
    "Proposed group: Zainelden Mahmoud, Jason Li, Edie Chen, Rana Nagash\n",
    "\n",
    "#### Analysis #1:\n",
    "**Research question**: Does the time spent socializing lessen an individual’s degree of depression?\n",
    "\n",
    "#### Variables and visualizations:\n",
    "I will examine the total time Canadians spend socializing per week (independent variable) and their reported PHQ scores (dependent variables), which is used to characterize the level of depression. A scatter diagram can be used to assess the relationship between the two variables since they are both numeric variables. I will also plot a KDE and a boxplot for each variable. Since both variables are numeric, the KDE will help visualize the distribution of the variables and identify any skews, while the box plot will provide a visual comparison of the test statistics of each variable and can help eliminate outliers.\n",
    "\n",
    "#### Analysis and hypotheses:\n",
    "After plotting a scatter diagram, I plan on calculating the R value of the plot (strength of the correlation). I then plan on performing a hypothesis test with the following Null and Alternative Hypotheses: $H_0: R = 0$  and \n",
    "$H_A: R ≠ 0$. I will then construct a 95% confidence interval of R values by bootstrapping from our sample.\n",
    "\n",
    "#### Expected results:\n",
    "The 95% confidence interval will either contain negative values of R excluding 0 (negative association), positive values excluding 0 (positive association), or will include 0 (no linear association). I believe the association will be negative, implying that depression levels generally decrease as social interactions increase.\n",
    "\n",
    "#### Analysis #2:\n",
    "**Research Question**: Do individuals with more pets feel less anxious?\n",
    "\n",
    "#### Variables and visualizations:\n",
    "I will examine the number of pets owned by an individual (independent variable) and their GAD score (dependent variable), which is used to quantify an individual's level of anxiety. Since both variables are numeric, we can plot a scatter diagram of the two variables to analyze the relationship between the number of pets owned and how anxious an individual feels. I will also plot a KDE and a boxplot for each variable. The KDE will help visualize the distribution of the variables, identify any skews and provide estimates for any values we don't have data for. The box plot will provide us with a visual comparison of the test statistics of each variable and can help eliminate outliers.\n",
    "\n",
    "#### Analysis and hypotheses:\n",
    "After plotting a scatter diagram, I plan on fitting an OLS linear regression model through the data and storing the slope coefficient of the model. I then plan on performing a hypothesis test with the following Null and Alternative Hypotheses: \n",
    "$H_0: \\beta_0 = 0$ and \n",
    "$H_A: \\beta_0 ≠ 0$ (where $\\beta_0$ denotes the slope coefficient). I will then construct a 95% confidence interval of the slope coefficients by bootstrapping from our sample. \n",
    "\n",
    "#### Expected results:\n",
    "The 95% confidence interval will either contain negative values of slopes excluding 0 (negative association), positive values excluding 0 (positive association), or will include 0 (no linear association). I believe the association will be negative, implying that anxiety levels generally decrease as the number of pets owned increases.\n",
    "\n",
    "#### Analysis #3:\n",
    "**Research question**: Are older people happier than younger people?\n",
    "\n",
    "#### Variables and visualizations:\n",
    "I will examine the participants’ ages and their subjective happiness score. This score also includes how happy a participant thinks they are relative to their peers. I can plot a scatter diagram of the two (numeric) variables to examine how the happiness scores vary as the participants' ages increase. I will also plot histogram and a boxplot for each variable. Since both variables are numeric, the histogram will help visualize the distribution of the variables (specifically the distribution of age groups) and identify any skews, while the box plot will provide us with a visual comparison of the test statistics of each variable and can help eliminate outliers.\n",
    "\n",
    "#### Analysis and hypotheses:\n",
    "After plotting a scatter diagram, I plan on fitting an OLS linear regression model through the data and storing the slope coefficient of the model. I then plan on performing a hypothesis test with the following Null and Alternative Hypotheses: \n",
    "$H_0: \\beta_0 = 0$ and \n",
    "$H_A: \\beta_0 ≠ 0$. Then, I will construct a 95% confidence interval of the slope coefficients by bootsrapping from our sample.\n",
    "\n",
    "#### Expected results:\n",
    "The 95% confidence interval will either contain negative values of slopes excluding 0 (negative association), positive values excluding 0 (positive association), or will include 0 (no linear association). \n",
    "\n",
    "***Note: for the second and third analyses, I will first check if the data obeys all assumptions required to fit an OLS linear regression model (i.e. linearity, independence, homoscedasticity, normality of residuals and no autocorrelation).***"
   ]
  }
 ],
 "metadata": {
  "kernelspec": {
   "display_name": "Python 3 (ipykernel)",
   "language": "python",
   "name": "python3"
  },
  "language_info": {
   "codemirror_mode": {
    "name": "ipython",
    "version": 3
   },
   "file_extension": ".py",
   "mimetype": "text/x-python",
   "name": "python",
   "nbconvert_exporter": "python",
   "pygments_lexer": "ipython3",
   "version": "3.11.6"
  }
 },
 "nbformat": 4,
 "nbformat_minor": 5
}
