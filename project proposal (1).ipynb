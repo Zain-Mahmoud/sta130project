{
 "cells": [
  {
   "cell_type": "markdown",
   "id": "c4d8c00d",
   "metadata": {},
   "source": [
    "#### Project proposal\n",
    "Proposed group: Zainelden Mahmoud, Jason Li, Edie Chen, Rana Nagash\n",
    "\n",
    "#### Analysis #1:\n",
    "**Research question**: Does the time spent socializing lessen an individual’s degree of depression?\n",
    "\n",
    "#### Variables to examine:\n",
    "I will examine the total time individuals spend socializing per week and their reported PHQ scores (used to characterize the level of depression). A scatter diagram can be used to assess the relationship between the two variables since they are both numeric variables. This can also be used to determine the general trend of the variables.\n",
    "\n",
    "#### Analysis to perform:\n",
    "After plotting a scatter diagram, I plan on fitting a linear regression model through the data and calculating the slope coefficient of the model. I then plan on performing a hypothesis test with the following Null and Alternative Hypotheses: $H_0: \\beta_0 ≥ 0$ and \n",
    "$H_A: \\beta_0 < 0$ (implying a negative correlation) \n",
    "\n",
    "Then, I will create a sampling distribution of slope coefficients under the Null Hypothesis to calculate the p-value and compare it to the pre-set alpha significance level, rejecting or failing to reject the Null Hypothesis accordingly.\n",
    "#### Hypothesis:\n",
    "I believe that after performing the Hypothesis Test, the p-value calculated will give us strong evidence to reject the Null Hypothesis, implying that, as the time spent socializing increases, the degree of depression decreases on average. Thus, I hypothesize that the time spent socializing reduces depression levels.\n",
    "#### Analysis #2:\n",
    "**Research Question**: Do individuals with more pets feel less anxious?\n",
    "#### Variables:\n",
    "I will examine the number of pets owned by an individual and their GAD score, which is used to quantify an individual's level of anxiety. Since both variables are numeric, we can plot a scatter diagram of the two variables to analyze the relationship between the number of pets owned and how anxious an individual feels. \n",
    "#### Analysis to perform:\n",
    "After plotting a scatter diagram, I plan on fitting a linear regression model through the data and storing the slope coefficient of the model. I then plan on performing a hypothesis test with the following Null and Alternative Hypotheses: \n",
    "$H_0: \\beta_0 ≥ 0$ and \n",
    "$H_A: \\beta_0 < 0$ (implying a negative correlation)\n",
    "\n",
    "I will then use bootstrapping to create many datasets and fit a regression model through each dataset. I will then calculate the slope coefficient of each model and then create a bootstrapped dataset of the slope coefficients. I will then construct a 95% confidence interval and examine whether the 95% confidence interval contains positive values of slopes to determine whether the correlation is negative or positive and reject or fail to reject the Null Hypothesis accordingly.\n",
    "#### Hypothesis:\n",
    "I believe that positive slope coefficients will not be included in the 95% confidence interval, giving us strong evidence against the Null Hypothesis, and that the correlation will be negative, implying that having more pets reduces anxiety.\n",
    "#### Analysis #3:\n",
    "**Research question**: Are older people happier than younger people?\n",
    "#### Variables:\n",
    "I will examine the participants’ ages and their reported happiness score. This score also includes how happy a participant thinks they are relative to their peers. I can plot a scatter diagram of the two (numeric) variables to examine how the happinness scores vary as the participants' ages increase.\n",
    "#### Analysis to perform:\n",
    "After plotting a scatter diagram, I plan on fitting a linear regression model through the data and storing the slope coefficient of the model. I then plan on performing a hypothesis test with the following Null and Alternative Hypotheses: \n",
    "$H_0: \\beta_0 ≤ 0$ and \n",
    "$H_A: \\beta_0 > 0$\n",
    "\n",
    "I will set the alpha-confidence level to 0.05. The hypotheses will also help me determine whether the relationship is positive or negative.\n",
    "\n",
    "Then, I will create a sampling distribution of slope coefficients under the Null Hypothesis to calculate the p-value and compare it to the pre-set alpha significance level, rejecting or failing to reject the Null Hypothesis accordingly.\n",
    "#### Hypothesis:\n",
    "I believe that the calculated p-value will give us strong evidence to reject the Null Hypothesis, implying that there is a positive correlation between the variables. In other words, I hypothesize that as the individuals get older, they become happier."
   ]
  }
 ],
 "metadata": {
  "kernelspec": {
   "display_name": "Python 3 (ipykernel)",
   "language": "python",
   "name": "python3"
  },
  "language_info": {
   "codemirror_mode": {
    "name": "ipython",
    "version": 3
   },
   "file_extension": ".py",
   "mimetype": "text/x-python",
   "name": "python",
   "nbconvert_exporter": "python",
   "pygments_lexer": "ipython3",
   "version": "3.11.6"
  }
 },
 "nbformat": 4,
 "nbformat_minor": 5
}
